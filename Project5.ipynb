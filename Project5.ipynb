{
  "nbformat": 4,
  "nbformat_minor": 0,
  "metadata": {
    "colab": {
      "name": "Project5.ipynb",
      "provenance": [],
      "collapsed_sections": []
    },
    "kernelspec": {
      "name": "python3",
      "display_name": "Python 3"
    }
  },
  "cells": [
    {
      "cell_type": "code",
      "metadata": {
        "id": "SWjsCepyDkpO"
      },
      "source": [
        "import pandas as pd\n",
        "import numpy as np\n",
        "import networkx as nx\n",
        "import sys\n",
        "import collections#import all the necessary packages"
      ],
      "execution_count": null,
      "outputs": []
    },
    {
      "cell_type": "code",
      "metadata": {
        "colab": {
          "base_uri": "https://localhost:8080/"
        },
        "id": "dBHLtfBcONZq",
        "outputId": "12ac77cc-281b-4753-8704-171cd97d6e32"
      },
      "source": [
        "from google.colab import drive\n",
        "drive.mount('/content/drive')#connect to google drive if you are running on google colab"
      ],
      "execution_count": null,
      "outputs": [
        {
          "output_type": "stream",
          "text": [
            "Drive already mounted at /content/drive; to attempt to forcibly remount, call drive.mount(\"/content/drive\", force_remount=True).\n"
          ],
          "name": "stdout"
        }
      ]
    },
    {
      "cell_type": "code",
      "metadata": {
        "id": "RRgLZobcRYiW"
      },
      "source": [
        "edgelist = \"/content/drive/MyDrive/CS5683/YouTube.edgelist\"\n",
        "G = nx.read_edgelist(edgelist, nodetype=int)#Reading the youtube edgelist into a graph"
      ],
      "execution_count": null,
      "outputs": []
    },
    {
      "cell_type": "code",
      "metadata": {
        "id": "QvOJzvmjRm98"
      },
      "source": [
        "V = G.number_of_nodes()#Number of nodes in the graph\n",
        "E = G.number_of_edges()#Number of edges in the graph"
      ],
      "execution_count": null,
      "outputs": []
    },
    {
      "cell_type": "code",
      "metadata": {
        "id": "mk4cLQ4mSF60"
      },
      "source": [
        "seed_communities_path = \"/content/drive/MyDrive/CS5683/20percent_seed_communities.txt\"#import seed communities\n",
        "seed_communities = []#reading the seed comminities into a list of list\n",
        "with open(seed_communities_path) as f:\n",
        "  for line in f:\n",
        "    seed_communities.append([int(x) for x in line.split()])"
      ],
      "execution_count": null,
      "outputs": []
    },
    {
      "cell_type": "code",
      "metadata": {
        "id": "OcMppC-kUQky"
      },
      "source": [
        "K = len(seed_communities)#Number of communities"
      ],
      "execution_count": null,
      "outputs": []
    },
    {
      "cell_type": "code",
      "metadata": {
        "id": "9fHPH0pvUctG"
      },
      "source": [
        "groundtruth_communities_path = \"/content/drive/MyDrive/CS5683/groundtruth_communities.txt\"#Import ground truth communities\n",
        "groundtruth_communities = {}#reading the ground truth communities as dictionary of community as key and nodes in it as values\n",
        "count = 0\n",
        "with open(groundtruth_communities_path) as f:\n",
        "  for line in f:\n",
        "    groundtruth_communities[count] = [int(x) for x in line.split()]\n",
        "    count += 1"
      ],
      "execution_count": null,
      "outputs": []
    },
    {
      "cell_type": "code",
      "metadata": {
        "id": "fYF5bpfVdYrV"
      },
      "source": [
        "neighborhoodseeds_path = \"/content/drive/MyDrive/CS5683/neighborhood_seeds.txt\"#import neighborhood seed communities\n",
        "neighborhood_seeds = []#reading the neighborhood seeds into a list of list as nodes in communities\n",
        "with open(neighborhoodseeds_path) as f:\n",
        "  for line in f:\n",
        "    neighborhood_seeds.append([int(x) for x in line.split()])"
      ],
      "execution_count": null,
      "outputs": []
    },
    {
      "cell_type": "markdown",
      "metadata": {
        "id": "6am4R9Y4mOgw"
      },
      "source": [
        "Initialization using the 20% seed communities"
      ]
    },
    {
      "cell_type": "code",
      "metadata": {
        "id": "S7yk6aY4XuQj"
      },
      "source": [
        "F = np.zeros((V,K))#Declaring the F matrix"
      ],
      "execution_count": null,
      "outputs": []
    },
    {
      "cell_type": "code",
      "metadata": {
        "id": "z87lsLFtY9wN"
      },
      "source": [
        "for i in range(len(seed_communities)):#Updating the seed communities in the F matrix using seed communities list of lists\n",
        "  for j in seed_communities[i]:\n",
        "    F[j][i] = 1"
      ],
      "execution_count": null,
      "outputs": []
    },
    {
      "cell_type": "code",
      "metadata": {
        "id": "_ZaWxrTvqV9S"
      },
      "source": [
        "seed_communities_nodes = np.concatenate(seed_communities)#collecting all the nodes of seed communities into a list to ignore them while calculating the conductance"
      ],
      "execution_count": null,
      "outputs": []
    },
    {
      "cell_type": "code",
      "metadata": {
        "id": "TuY5ZaVGSW0y"
      },
      "source": [
        "node_list = []#To store the updated nodes and ignore them to calculate conductance\n",
        "for i in range(len(F)):#For all nodes in F\n",
        "  if i not in seed_communities_nodes:#Ignore the nodes if its updated from seed communities\n",
        "    if i not in node_list:#Ignore the node if its already updated as neighbor of some other node\n",
        "      min_value = np.inf#To get the locally minimum community\n",
        "      for j in range(len(F[0])):#For all the communities\n",
        "        cond = nx.conductance(G,set(seed_communities[j]+list(G.neighbors(i))+[i]))#Call calculate the conductance by adding node and its neighbors to each of the community\n",
        "        if min_value > cond:\n",
        "          min_value = cond#taking the locally minimal community\n",
        "          min_c = j#the community number\n",
        "      for a in list(G.neighbors(i))+[i]:#update the locally minimal communities in F as 1 for node and its neighbors\n",
        "        F[a][min_c] = 1\n",
        "      node_list = node_list + list(G.neighbors(i))#collect already updated nodes"
      ],
      "execution_count": null,
      "outputs": []
    },
    {
      "cell_type": "code",
      "metadata": {
        "id": "znTacZQdosIN"
      },
      "source": [
        "F_store = F.copy()"
      ],
      "execution_count": null,
      "outputs": []
    },
    {
      "cell_type": "code",
      "metadata": {
        "id": "dvDefr6vjjS3"
      },
      "source": [
        "perc_change = 0#To calculate the percentage change\n",
        "for i in range(300):#Iterating throught the optimizaation process 300 times\n",
        "  sigma_allnodes = F.sum(axis=0)#Vector sum of all the nodes in the F matrix\n",
        "  for u in range(len(F)):#For all the nodes in F matrix\n",
        "    neighbors = list(G.neighbors(u)) #Collecting the neighbors of the node into a list\n",
        "    delta1 = [0]*K #an empty list of size K to compute first part in optimization function\n",
        "    sigma_v = [0]*K #An empty list to calculate vector of neighbor nodes\n",
        "    for v in neighbors:#For each node in neighbors\n",
        "      if (1-np.exp(-np.matmul(F[u],F[v].transpose()))): #If the denominator of the first part in the optimization function is 0 the whole value will become infinity, so checking for it and update the first part of error function appropriately\n",
        "        delta1_2 = np.exp(-np.matmul(F[u],F[v].transpose()))/(1-np.exp(-np.matmul(F[u],F[v].transpose()))) # If the denominator not equal to 0\n",
        "      else:\n",
        "        delta1_2=0 #If denominator equal to zero\n",
        "      delta1 = (F[v]*delta1_2) + delta1 #Summing the first part of the gradient function\n",
        "      sigma_v = F[v] + sigma_v #Calculating vector sum of all the node neighbor as per BigClam 2.0\n",
        "    delta2 = sigma_allnodes - F[u] - sigma_v #Second part of the gradient equation\n",
        "    delta = delta1 - delta2 #Final gradient for a node vector\n",
        "    change = 0.1*sum(delta)/sum(F[u]) #Percentage change in the vector Fu\n",
        "    if change < 0.001:\n",
        "      perc_change += 1\n",
        "    F[u] = F[u] + 0.001*delta#Updating the vector for a node\n",
        "    negative_values = F[u] < 0 # Turning the negative values to 0 in the node vector\n",
        "    F[u][negative_values] = 0\n",
        "  if perc_change == V:#If the percentage change for all the node vector is less that 0.001 then exiting the loop\n",
        "    break"
      ],
      "execution_count": null,
      "outputs": []
    },
    {
      "cell_type": "code",
      "metadata": {
        "id": "mv0YycARxQIF"
      },
      "source": [
        "threshold = np.sqrt(-np.log10(1-10e-8))#Threshold value to assign communities\n",
        "assigned_communities = {} # To assign the communities and collect them into a dictionary\n",
        "for i in range(len(F)): # For each row in F matrix means each node\n",
        "  for j in range(len(F[0])): # For each column in F matrix\n",
        "    if j not in assigned_communities.keys(): #If community is not present in the dictionary add it with empty list as value\n",
        "      assigned_communities[j] = []\n",
        "    if F[i][j] >= threshold:#If the Fuc value is greater than threshold then store it in the dictionary of community, list of nodes\n",
        "      assigned_communities[j].append(i)#Append the community nodes"
      ],
      "execution_count": null,
      "outputs": []
    },
    {
      "cell_type": "code",
      "metadata": {
        "id": "sZZk0MAuI_6h"
      },
      "source": [
        "file = open('/content/drive/MyDrive/CS5683/assigned_communities_20precent_seed.txt','w') #Export path for assigned communities\n",
        "file.write(str(\"Community Number\")+str(\"--->\")+str(\"Nodes\"))\n",
        "file.write(\"\\n\")\n",
        "for key,value in assigned_communities.items(): # for each item in the dictionary of assigned communities\n",
        "  file.write(str(key)+str(\"--->\")+str(value))# exporting the communities and its nodes into a text file as strings\n",
        "  file.write(\"\\n\")\n",
        "file.close()"
      ],
      "execution_count": null,
      "outputs": []
    },
    {
      "cell_type": "code",
      "metadata": {
        "id": "giyib10DAlQq"
      },
      "source": [
        "matched = {} # to find the store the best matched community\n",
        "over = [] # To store the matched communities\n",
        "for i in groundtruth_communities:#for each ground truth communities\n",
        "  for j in assigned_communities: # For each assigned community\n",
        "    if i not in matched.keys():#If the ground truth community\n",
        "      matched[i] = (-1,0) # Initially filling the matched dictionary as ground truth community: (best matched predicted community, recall between the two)\n",
        "    if matched[i][1] < len(set(assigned_communities[j])&set(groundtruth_communities[i]))/len(set(groundtruth_communities[i])): #For each ground truth I am trying to find the best matching predicted community\n",
        "      if j not in over: #If a community is already assigned to a ground truth community ignore it\n",
        "        matched[i] = (j,len(set(assigned_communities[j])&set(groundtruth_communities[i]))/len(set(groundtruth_communities[i])))\n",
        "  over.append(matched[i][0])#collecting the assigned communities"
      ],
      "execution_count": null,
      "outputs": []
    },
    {
      "cell_type": "code",
      "metadata": {
        "colab": {
          "base_uri": "https://localhost:8080/"
        },
        "id": "DaaWY3FYSm6y",
        "outputId": "48777cbf-93b0-42ba-b11c-9dfc1f7e433e"
      },
      "source": [
        "rec = 0 # Initial recall is zero\n",
        "for value in matched:# As we have already stored all the ground truth communities, best match predicted community and recall between the two, we are iterating through each ground truth community and calculating total recall\n",
        "  rec = rec + matched[value][1]#calculating the recall as true positive/total actual\n",
        "rec = rec/K #Finally dividing with the number of communities\n",
        "rec"
      ],
      "execution_count": null,
      "outputs": [
        {
          "output_type": "execute_result",
          "data": {
            "text/plain": [
              "0.30964593650427436"
            ]
          },
          "metadata": {
            "tags": []
          },
          "execution_count": 18
        }
      ]
    },
    {
      "cell_type": "code",
      "metadata": {
        "colab": {
          "base_uri": "https://localhost:8080/"
        },
        "id": "2XnZtn24XwJZ",
        "outputId": "fb8eb632-74e7-4891-83b7-3b5092384612"
      },
      "source": [
        "precision = 0 # Initial precision is zero\n",
        "for value in matched: # As we have already stored all the ground truth communities, best match predicted community and recall between the two\n",
        "  if matched[value][0] != -1:#unassigned communities\n",
        "    precision = precision + len(set(assigned_communities[matched[value][0]])&set(groundtruth_communities[value]))/len(set(assigned_communities[matched[value][0]])) #calculating the precision as true positive/total predicted\n",
        "precision = precision/K # Finally dividing it with number of communities\n",
        "precision"
      ],
      "execution_count": null,
      "outputs": [
        {
          "output_type": "execute_result",
          "data": {
            "text/plain": [
              "0.45740308270971447"
            ]
          },
          "metadata": {
            "tags": []
          },
          "execution_count": 19
        }
      ]
    },
    {
      "cell_type": "code",
      "metadata": {
        "id": "81_dA5vBCpyG"
      },
      "source": [
        ""
      ],
      "execution_count": null,
      "outputs": []
    },
    {
      "cell_type": "code",
      "metadata": {
        "id": "BKkEHqlVXwN-"
      },
      "source": [
        ""
      ],
      "execution_count": null,
      "outputs": []
    },
    {
      "cell_type": "code",
      "metadata": {
        "id": "gdwdcShaXwFG"
      },
      "source": [
        ""
      ],
      "execution_count": null,
      "outputs": []
    },
    {
      "cell_type": "markdown",
      "metadata": {
        "id": "OU_BRnwTsBDd"
      },
      "source": [
        "Neighborhood seed Initialization"
      ]
    },
    {
      "cell_type": "code",
      "metadata": {
        "id": "wcaj2BWzSXK1"
      },
      "source": [
        "F_n = np.zeros((V,K))"
      ],
      "execution_count": null,
      "outputs": []
    },
    {
      "cell_type": "code",
      "metadata": {
        "id": "Jmjvh_zQSWxr"
      },
      "source": [
        "for i in range(len(neighborhood_seeds)): #Updating the neighborhood seed communities in the F matrix using neighborhood seed communities list of lists\n",
        "  for j in neighborhood_seeds[i]:\n",
        "    F_n[j][i] = 1"
      ],
      "execution_count": null,
      "outputs": []
    },
    {
      "cell_type": "code",
      "metadata": {
        "id": "hCFyBC2hrHRX"
      },
      "source": [
        "neighborhood_seed_nodes = np.concatenate(neighborhood_seeds)#collecting all the nodes of neighborhood seed communities into a list to ignore them while calculating the conductance"
      ],
      "execution_count": null,
      "outputs": []
    },
    {
      "cell_type": "code",
      "metadata": {
        "id": "isdbdXHnVRz6"
      },
      "source": [
        "node_list = []#To store the updated nodes and ignore them to calculate conductance\n",
        "for i in range(len(F_n)):#For all nodes in F\n",
        "  if i not in neighborhood_seed_nodes: #Ignore the nodes if its updated from neighborhood seed communities\n",
        "    if i not in node_list: #Ignore the node if its already updated as neighbor of some other node\n",
        "      min_value = np.inf #To get the locally minimum community\n",
        "      for j in range(len(F_n[0])): #Call calculate the conductance by adding node and its neighbors to each of the community\n",
        "        cond = nx.conductance(G,set(neighborhood_seeds[j]+list(G.neighbors(i))+[i]))#should we take distinct of seed community nodes and neighbor nodes\n",
        "        if min_value > cond:\n",
        "          min_value = cond #taking the locally minimal community\n",
        "          min_c = j#the community number\n",
        "      for a in list(G.neighbors(i))+[i]:#update the locally minimal communities in F as 1 for node and its neighbors\n",
        "        F_n[a][min_c] = 1\n",
        "      node_list = node_list + list(G.neighbors(i)) #collect already updated nodes into a list"
      ],
      "execution_count": null,
      "outputs": []
    },
    {
      "cell_type": "code",
      "metadata": {
        "id": "KKmqLuX7olQs"
      },
      "source": [
        "F_n_store = F_n.copy()"
      ],
      "execution_count": null,
      "outputs": []
    },
    {
      "cell_type": "code",
      "metadata": {
        "id": "4143De6ZVU0u"
      },
      "source": [
        "perc_change = 0 #To calculate the percentage change\n",
        "for i in range(300): #Iterating throught the optimizaation process 300 times\n",
        "  sigma_allnodes = F_n.sum(axis=0) #Vector sum of all the nodes in the F matrix\n",
        "  for u in range(len(F_n)): #For all the nodes in F matrix\n",
        "    neighbors = list(G.neighbors(u)) #Collecting the neighbors of the node into a list\n",
        "    delta1 = [0]*K #an empty list of size K to compute first part in optimization function\n",
        "    sigma_v = [0]*K #An empty list to calculate vector of neighbor nodes\n",
        "    for v in neighbors: #For each node in neighbors\n",
        "      if (1-np.exp(-np.matmul(F_n[u],F_n[v].transpose()))): #If the denominator of the first part in the optimization function is 0 the whole value will become infinity, so checking for it and update the first part of error function appropriately\n",
        "        delta1_2=np.exp(-np.matmul(F_n[u],F_n[v].transpose()))/(1-np.exp(-np.matmul(F_n[u],F_n[v].transpose()))) # If the denominator not equal to 0\n",
        "      else:\n",
        "        delta1_2=0 #If denominator equal to zero\n",
        "      delta1 = (F_n[v]*delta1_2) + delta1 #Summing the first part of the gradient function\n",
        "      sigma_v = F_n[v] + sigma_v #Calculating vector sum of all the node neighbor as per BigClam 2.0\n",
        "    delta2 = sigma_allnodes - F_n[u] - sigma_v #Second part of the gradient equation\n",
        "    delta = delta1 - delta2 #Final gradient for a node vector\n",
        "    change = 0.1*sum(delta)/sum(F_n[u]) #Percentage change in the vector Fu\n",
        "    if change < 0.001:\n",
        "      perc_change += 1\n",
        "    F_n[u] = F_n[u] + 0.001*delta #Updating the vector for a node\n",
        "    negative_values = F_n[u] < 0 # Turning the negative values to 0 in the node vector\n",
        "    F_n[u][negative_values] = 0\n",
        "  if perc_change == V:#If the percentage change for all the node vector is less that 0.001 then exiting the loop\n",
        "    break"
      ],
      "execution_count": null,
      "outputs": []
    },
    {
      "cell_type": "code",
      "metadata": {
        "id": "Jk0VlGJDWdin"
      },
      "source": [
        "threshold = np.sqrt(-np.log10(1-10e-8)) #Threshold value to assign communities\n",
        "assigned_communities_n = {} # To assign the communities and collect them into a dictionary\n",
        "for i in range(len(F_n)): # For each row in F matrix means each node\n",
        "  for j in range(len(F_n[0])): # For each column in F matrix\n",
        "    if j not in assigned_communities_n.keys(): #If community is not present in the dictionary add it with empty list as value\n",
        "      assigned_communities_n[j] = []\n",
        "    if F_n[i][j] >= threshold: #If the Fuc value is greater than threshold then store it in the dictionary of community, list of nodes\n",
        "      assigned_communities_n[j].append(i) #Append the community nodes"
      ],
      "execution_count": null,
      "outputs": []
    },
    {
      "cell_type": "code",
      "metadata": {
        "id": "o5bBjSojHGpG"
      },
      "source": [
        "file_n = open('/content/drive/MyDrive/CS5683/assigned_communities_neighborhood_seed.txt','w') #Export path for assigned communities\n",
        "file_n.write(str(\"Community Number\")+str(\"--->\")+str(\"Nodes\"))\n",
        "file_n.write(\"\\n\")\n",
        "for key,value in assigned_communities_n.items(): # for each item in the dictionary of assigned communities\n",
        "  file_n.write(str(key)+str(\"--->\")+str(value)) # exporting the communities and its nodes into a text file as strings\n",
        "  file_n.write(\"\\n\")\n",
        "file_n.close()"
      ],
      "execution_count": null,
      "outputs": []
    },
    {
      "cell_type": "code",
      "metadata": {
        "id": "2YZJAFIzWfXq"
      },
      "source": [
        "matched_n = {} # to find the store the best matched community\n",
        "over = [] # To store the matched communities\n",
        "for i in groundtruth_communities: #for each ground truth communities\n",
        "  for j in assigned_communities_n: # For each assigned community\n",
        "    if i not in matched_n.keys(): #If the ground truth community\n",
        "      matched_n[i] = (-1,0) # Initially filling the matched dictionary as ground truth community: (best matched predicted community, recall between the two)\n",
        "    if matched_n[i][1] < len(set(assigned_communities_n[j])&set(groundtruth_communities[i]))/len(set(groundtruth_communities[i])): #For each ground truth I am trying to find the best matching predicted community\n",
        "      if j not in over: #If a community is already assigned to a ground truth community ignore it\n",
        "        matched_n[i] = (j,len(set(assigned_communities_n[j])&set(groundtruth_communities[i]))/len(set(groundtruth_communities[i])))\n",
        "  over.append(matched_n[i][0]) #collecting the assigned communities"
      ],
      "execution_count": null,
      "outputs": []
    },
    {
      "cell_type": "code",
      "metadata": {
        "colab": {
          "base_uri": "https://localhost:8080/"
        },
        "id": "cJzR7mEPZeqn",
        "outputId": "a60669ac-93ac-4d33-fe2a-86dfb413003c"
      },
      "source": [
        "rec_n = 0 # Initial recall is zero\n",
        "for value in matched_n: # As we have already stored all the ground truth communities, best match predicted community and recall between the two, we are iterating through each ground truth community and calculating total recall\n",
        "  rec_n = rec_n + matched_n[value][1] #calculating the recall as true positive/total actual\n",
        "rec_n = rec_n/K #Finally dividing with the number of communities\n",
        "rec_n"
      ],
      "execution_count": null,
      "outputs": [
        {
          "output_type": "execute_result",
          "data": {
            "text/plain": [
              "0.040700161321320746"
            ]
          },
          "metadata": {
            "tags": []
          },
          "execution_count": 29
        }
      ]
    },
    {
      "cell_type": "code",
      "metadata": {
        "colab": {
          "base_uri": "https://localhost:8080/"
        },
        "id": "YcWj2JmBZe3N",
        "outputId": "a3554c3d-87ee-4bb8-f617-f7779cf08ca2"
      },
      "source": [
        "precision_n = 0 # Initial precision is zero\n",
        "for value in matched_n: # As we have already stored all the ground truth communities, best match predicted community and recall between the two\n",
        "  if matched_n[value][0] != -1: #unassigned communities\n",
        "    precision_n = precision_n + len(set(assigned_communities_n[matched_n[value][0]])&set(groundtruth_communities[value]))/len(set(assigned_communities_n[matched_n[value][0]])) #calculating the precision as true positive/total predicted\n",
        "precision_n = precision_n/K # Finally dividing it with number of communities\n",
        "precision_n"
      ],
      "execution_count": null,
      "outputs": [
        {
          "output_type": "execute_result",
          "data": {
            "text/plain": [
              "0.4053304363749031"
            ]
          },
          "metadata": {
            "tags": []
          },
          "execution_count": 30
        }
      ]
    },
    {
      "cell_type": "code",
      "metadata": {
        "id": "kqFVIpHs3zJh"
      },
      "source": [
        ""
      ],
      "execution_count": null,
      "outputs": []
    },
    {
      "cell_type": "code",
      "metadata": {
        "id": "avXcEDII3zBY"
      },
      "source": [
        ""
      ],
      "execution_count": null,
      "outputs": []
    },
    {
      "cell_type": "code",
      "metadata": {
        "id": "csIR9jpxZetZ"
      },
      "source": [
        ""
      ],
      "execution_count": null,
      "outputs": []
    },
    {
      "cell_type": "markdown",
      "metadata": {
        "id": "3EgRUsq2sFmm"
      },
      "source": [
        "Random number initialization"
      ]
    },
    {
      "cell_type": "code",
      "metadata": {
        "id": "nwrMeeeCZenh"
      },
      "source": [
        "F_r = np.random.rand(V,K) # Creating a simple factor matrix with random values in range between [0,1]"
      ],
      "execution_count": null,
      "outputs": []
    },
    {
      "cell_type": "code",
      "metadata": {
        "colab": {
          "base_uri": "https://localhost:8080/"
        },
        "id": "zGXgWgqrZu8c",
        "outputId": "71beefe9-53cb-4c84-d26e-720500a70b1b"
      },
      "source": [
        "perc_change = 0 #To calculate the percentage change\n",
        "for i in range(300): #Iterating throught the optimizaation process 300 times\n",
        "  sigma_allnodes = F_r.sum(axis=0) #Vector sum of all the nodes in the F matrix\n",
        "  for u in range(len(F_r)): #For all the nodes in F matrix\n",
        "    neighbors = list(G.neighbors(u)) #Collecting the neighbors of the node into a list\n",
        "    delta1 = [0]*K #an empty list of size K to compute first part in optimization function\n",
        "    sigma_v = [0]*K #An empty list to calculate vector of neighbor nodes\n",
        "    for v in neighbors: #For each node in neighbors\n",
        "      if (1-np.exp(-np.matmul(F_r[u],F_r[v].transpose()))): #If the denominator of the first part in the optimization function is 0 the whole value will become infinity, so checking for it and update the first part of error function appropriately\n",
        "        delta1_2=np.exp(-np.matmul(F_r[u],F_r[v].transpose()))/(1-np.exp(-np.matmul(F_r[u],F_r[v].transpose()))) # If the denominator not equal to 0\n",
        "      else:\n",
        "        delta1_2=0 #If denominator equal to zero\n",
        "      delta1 = (F_r[v]*delta1_2) + delta1 #Summing the first part of the gradient function\n",
        "      sigma_v = F_r[v] + sigma_v #Calculating vector sum of all the node neighbor as per BigClam 2.0\n",
        "    delta2 = sigma_allnodes - F_r[u] - sigma_v #Second part of the gradient equation\n",
        "    #print(delta2)\n",
        "    #print(delta1)\n",
        "    delta = delta1 - delta2 #Final gradient for a node vector\n",
        "    change = 0.01*sum(delta)/sum(F_r[u]) #Percentage change in the vector Fu\n",
        "    if abs(change) < 0.001:\n",
        "      perc_change += 1\n",
        "    F_r[u] = F_r[u] + 0.0001*delta #Updating the vector for a node\n",
        "    negative_values = F_r[u] < 0 # Turning the negative values to 0 in the node vector\n",
        "    F_r[u][negative_values] = 0\n",
        "  if perc_change == V: #If the percentage change for all the node vector is less that 0.001 then exiting the loop\n",
        "    break"
      ],
      "execution_count": null,
      "outputs": [
        {
          "output_type": "stream",
          "text": [
            "/usr/local/lib/python3.6/dist-packages/ipykernel_launcher.py:19: RuntimeWarning: divide by zero encountered in double_scalars\n"
          ],
          "name": "stderr"
        }
      ]
    },
    {
      "cell_type": "code",
      "metadata": {
        "id": "wyjT338bZu_b"
      },
      "source": [
        "threshold = np.sqrt(-np.log10(1-10e-8)) #Threshold value to assign communities\n",
        "assigned_communities_r = {} # To assign the communities and collect them into a dictionary\n",
        "for i in range(len(F_r)): # For each row in F matrix means each node\n",
        "  for j in range(len(F_r[0])): # For each column in F matrix\n",
        "    if j not in assigned_communities_r.keys(): #If community is not present in the dictionary add it with empty list as value\n",
        "      assigned_communities_r[j] = []\n",
        "    if F_r[i][j] >= threshold: #If the Fuc value is greater than threshold then store it in the dictionary of community, list of nodes\n",
        "      assigned_communities_r[j].append(i) #Append the community nodes"
      ],
      "execution_count": null,
      "outputs": []
    },
    {
      "cell_type": "code",
      "metadata": {
        "id": "oNgeG5saJ9-A"
      },
      "source": [
        "file_r = open('/content/drive/MyDrive/CS5683/assigned_communities_random.txt','w') #Exporting the assigned or predicted communites as communites and its nodes into a text file\n",
        "file_r.write(str(\"Community Number\")+str(\"--->\")+str(\"Nodes\"))\n",
        "file_r.write(\"\\n\")\n",
        "for key,value in assigned_communities_r.items():\n",
        "  file_r.write(str(key)+str(\"--->\")+str(value))\n",
        "  file_r.write(\"\\n\")\n",
        "file_r.close()"
      ],
      "execution_count": null,
      "outputs": []
    },
    {
      "cell_type": "code",
      "metadata": {
        "id": "iurk31LpZu4y"
      },
      "source": [
        "matched_r = {} # to find the store the best matched community\n",
        "over = [] # To store the matched communities\n",
        "for i in groundtruth_communities: #for each ground truth communities\n",
        "  for j in assigned_communities_r: # For each assigned community\n",
        "    if i not in matched_r.keys(): #If the ground truth community\n",
        "      matched_r[i] = (-1,0) # Initially filling the matched dictionary as ground truth community: (best matched predicted community, recall between the two)\n",
        "    if matched_r[i][1] < len(set(assigned_communities_r[j])&set(groundtruth_communities[i]))/len(set(groundtruth_communities[i])): #For each ground truth I am trying to find the best matching predicted community\n",
        "      if j not in over: #If a community is already assigned to a ground truth community ignore it\n",
        "        matched_r[i] = (j,len(set(assigned_communities_r[j])&set(groundtruth_communities[j]))/len(set(groundtruth_communities[i])))\n",
        "  over.append(matched_r[i][0]) #collecting the assigned communities"
      ],
      "execution_count": null,
      "outputs": []
    },
    {
      "cell_type": "code",
      "metadata": {
        "colab": {
          "base_uri": "https://localhost:8080/"
        },
        "id": "1-zeu4VkdT0z",
        "outputId": "bf2c81ca-0b1d-47d8-987f-799eff6b9fa9"
      },
      "source": [
        "rec_r = 0 # Initial recall is zero\n",
        "for value in matched_r: # As we have already stored all the ground truth communities, best match predicted community and recall between the two, we are iterating through each ground truth community and calculating total recall\n",
        "  rec_r = rec_r + matched_r[value][1] #calculating the recall as true positive/total actual\n",
        "rec_r = rec_r/K #Finally dividing with the number of communities\n",
        "rec_r "
      ],
      "execution_count": null,
      "outputs": [
        {
          "output_type": "execute_result",
          "data": {
            "text/plain": [
              "0.005488982807004632"
            ]
          },
          "metadata": {
            "tags": []
          },
          "execution_count": 36
        }
      ]
    },
    {
      "cell_type": "code",
      "metadata": {
        "colab": {
          "base_uri": "https://localhost:8080/"
        },
        "id": "XNmYysFoEOtK",
        "outputId": "1610331d-0930-46ba-b99e-b2aeb6b2d338"
      },
      "source": [
        "precision_r = 0 # Initial precision is zero\n",
        "for value in matched_r: # As we have already stored all the ground truth communities, best match predicted community and recall between the two\n",
        "  if matched_r[value][0] != -1: #unassigned communities\n",
        "    precision_r = precision_r + len(set(assigned_communities_r[matched_r[value][0]])&set(groundtruth_communities[value]))/len(set(assigned_communities_r[matched_r[value][0]])) #calculating the precision as true positive/total predicted\n",
        "precision_r = precision_r/K # Finally dividing it with number of communities\n",
        "precision_r"
      ],
      "execution_count": null,
      "outputs": [
        {
          "output_type": "execute_result",
          "data": {
            "text/plain": [
              "0.11747301042432888"
            ]
          },
          "metadata": {
            "tags": []
          },
          "execution_count": 37
        }
      ]
    },
    {
      "cell_type": "markdown",
      "metadata": {
        "id": "WWH6FocZsLqq"
      },
      "source": [
        "Comparing plots"
      ]
    },
    {
      "cell_type": "code",
      "metadata": {
        "colab": {
          "base_uri": "https://localhost:8080/",
          "height": 295
        },
        "id": "AHwEO5gaA7ok",
        "outputId": "e66573fd-7004-4984-f201-5040bbea3002"
      },
      "source": [
        "import matplotlib.pyplot as plt\n",
        "plt.barh([\"20 Percent Seed Community\",\"Neighborhood Community\",\"Randomly Initialized\"],[rec,rec_n,rec_r], align='center', label=\"Recall Score\")\n",
        "plt.legend()\n",
        "plt.ylabel('Types of factor matrix initializations')\n",
        "plt.xlabel('Recall Scores')\n",
        "plt.title('Recall Scores v/s Types of factor matrix initializations')\n",
        "plt.show()"
      ],
      "execution_count": null,
      "outputs": [
        {
          "output_type": "display_data",
          "data": {
            "image/png": "[encoded data removed]",
            "text/plain": [
              "<Figure size 432x288 with 1 Axes>"
            ]
          },
          "metadata": {
            "tags": [],
            "needs_background": "light"
          }
        }
      ]
    },
    {
      "cell_type": "markdown",
      "metadata": {
        "id": "5wojhwGesP68"
      },
      "source": [
        "The above shows the comparision plot of recall for all the three initialization methods. Recall means the true positive by total actual. Recall is the estimated probability that a document randomly selected from the pool of relevant documents is retrieved. The first initialization which is 20% seed communities initilization seems to be the best"
      ]
    },
    {
      "cell_type": "code",
      "metadata": {
        "colab": {
          "base_uri": "https://localhost:8080/",
          "height": 295
        },
        "id": "o6DQ1MlvBjWH",
        "outputId": "31421af8-19d8-4251-c2ff-cf1ff0992f25"
      },
      "source": [
        "import matplotlib.pyplot as plt\n",
        "plt.barh([\"20 Percent Seed Community\",\"Neighborhood Community\",\"Randomly Initialized\"],[precision,precision_n,precision_r], align='center', label=\"Recall Score\")\n",
        "plt.legend()\n",
        "plt.ylabel('Types of factor matrix initializations')\n",
        "plt.xlabel('Recall Scores')\n",
        "plt.title('Recall Scores v/s Types of factor matrix initializations')\n",
        "plt.show()"
      ],
      "execution_count": null,
      "outputs": [
        {
          "output_type": "display_data",
          "data": {
            "image/png": "[encoded data removed]",
            "text/plain": [
              "<Figure size 432x288 with 1 Axes>"
            ]
          },
          "metadata": {
            "tags": [],
            "needs_background": "light"
          }
        }
      ]
    },
    {
      "cell_type": "markdown",
      "metadata": {
        "id": "Tgi9zyqosjBB"
      },
      "source": [
        "The above shows the comparision plot of precision for all the three initialization methods. Precision means the true positive by total predicted.  Precision is the estimated probability that a document randomly selected from the pool of retrieved documents is relevant. The first initialization which is 20% seed communities initilization seems to be the best"
      ]
    }
  ]
}